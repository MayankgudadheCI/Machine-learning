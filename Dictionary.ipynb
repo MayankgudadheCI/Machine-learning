{
  "nbformat": 4,
  "nbformat_minor": 0,
  "metadata": {
    "colab": {
      "name": "Dictionary.ipynb",
      "provenance": []
    },
    "kernelspec": {
      "name": "python3",
      "display_name": "Python 3"
    },
    "language_info": {
      "name": "python"
    }
  },
  "cells": [
    {
      "cell_type": "code",
      "execution_count": null,
      "metadata": {
        "colab": {
          "base_uri": "https://localhost:8080/"
        },
        "id": "IMCtiFQvlf7T",
        "outputId": "9172df27-53c5-4d00-a78d-011e7ca413f3"
      },
      "outputs": [
        {
          "output_type": "stream",
          "name": "stdout",
          "text": [
            "{'mayank': 'gudadhe', 'Branch': 'CSIT', 'City ': 'Indore'}\n"
          ]
        }
      ],
      "source": [
        "Mayank={\n",
        "    \"mayank\" :\"gudadhe\",\n",
        "    \"Branch\" : \"CSIT\",\n",
        "    \"City \"  :\"Indore\"\n",
        "        }\n",
        "print(Mayank)"
      ]
    },
    {
      "cell_type": "markdown",
      "source": [
        "**Demonstrate application of Dictionary  by taking birthday month as an input and count number of birthdays in particular month by taking month as key . identify max number and minimum number of birthday **\n"
      ],
      "metadata": {
        "id": "EgQ0CIgx5ew7"
      }
    },
    {
      "cell_type": "code",
      "source": [
        "birthday={\"jan\":0,\"feb\":0,\"mar\":0,\"apr\":0,\"may\":1,\"june\":0,\"july\":0,\"aug\":0,\"sep\":0,\"oct\":0,\"nov\":0,\"dec\":0}\n",
        "while(True):\n",
        "  mon=input()\n",
        "  if mon ==\"\":\n",
        "    break\n",
        "  else:\n",
        "    birthday[mon]=birthday[mon]+1\n",
        "\n",
        "minv=birthday[\"jan\"]\n",
        "for i in birthday.keys():\n",
        "  if birthday[i]<minv:\n",
        "    minv=birthday[i]\n",
        "\n",
        "maxv=birthday[\"jan\"]\n",
        "for i in birthday.keys():\n",
        "  if birthday[i]>maxv:\n",
        "    maxv=birthday[i]\n",
        "\n",
        "print(birthday)\n",
        "print(f\"Minimum no of birthday in a month are {minv} \")\n",
        "print(f\"Maximum no of birthday in a month are {maxv} \")"
      ],
      "metadata": {
        "id": "TWjNWecwqJ8t",
        "colab": {
          "base_uri": "https://localhost:8080/"
        },
        "outputId": "60d30cca-7d5a-43cf-d9e4-cd50c1979b16"
      },
      "execution_count": null,
      "outputs": [
        {
          "output_type": "stream",
          "name": "stdout",
          "text": [
            "jan\n",
            "feb\n",
            "feb\n",
            "feb\n",
            "oct\n",
            "oct\n",
            "aug\n",
            "dec\n",
            "nov\n",
            "\n",
            "{'jan': 1, 'feb': 3, 'mar': 0, 'apr': 0, 'may': 1, 'june': 0, 'july': 0, 'aug': 1, 'sep': 0, 'oct': 2, 'nov': 1, 'dec': 1}\n",
            "Minimum no of birthday in a month are 0 \n",
            "Maximum no of birthday in a month are 3 \n"
          ]
        }
      ]
    }
  ]
}