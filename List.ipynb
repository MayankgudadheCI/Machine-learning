{
  "nbformat": 4,
  "nbformat_minor": 0,
  "metadata": {
    "colab": {
      "name": "List.ipynb",
      "provenance": []
    },
    "kernelspec": {
      "name": "python3",
      "display_name": "Python 3"
    },
    "language_info": {
      "name": "python"
    }
  },
  "cells": [
    {
      "cell_type": "code",
      "execution_count": null,
      "metadata": {
        "colab": {
          "base_uri": "https://localhost:8080/"
        },
        "id": "AQg9Foonu32W",
        "outputId": "923bb2c3-5beb-45f1-c6fe-2f0d8d6e83d9"
      },
      "outputs": [
        {
          "output_type": "stream",
          "name": "stdout",
          "text": [
            "['Mayank', 'Amit', 'Kunal']\n"
          ]
        }
      ],
      "source": [
        "List1=[\"Mayank\",\"Amit\",\"Kunal\"]\n",
        "print(List1)"
      ]
    },
    {
      "cell_type": "code",
      "source": [
        "print(List1.sort())\n",
        "print(List1)"
      ],
      "metadata": {
        "colab": {
          "base_uri": "https://localhost:8080/"
        },
        "id": "FlMpToWOvM2C",
        "outputId": "4d20db48-f18a-480c-e7c3-b4e59b9a0031"
      },
      "execution_count": null,
      "outputs": [
        {
          "output_type": "stream",
          "name": "stdout",
          "text": [
            "None\n",
            "['Amit', 'Kunal', 'Mayank']\n"
          ]
        }
      ]
    },
    {
      "cell_type": "code",
      "source": [
        ""
      ],
      "metadata": {
        "id": "6_OIjQi3vT7k"
      },
      "execution_count": null,
      "outputs": []
    },
    {
      "cell_type": "code",
      "source": [
        "List2=[\"0827CI191035\",\"CSIT\",8.95,8.01,8.88,7.25]\n",
        "print(List2)\n",
        "print(List2[0])\n",
        "print(List2.reverse())\n",
        "print(List2)\n",
        "print(List2[1:3])\n",
        "List2.pop()\n",
        "print(List2)\n"
      ],
      "metadata": {
        "colab": {
          "base_uri": "https://localhost:8080/"
        },
        "id": "0XsLVmwXaYEG",
        "outputId": "d83cbe89-e848-42f3-ba93-7facce9245d5"
      },
      "execution_count": null,
      "outputs": [
        {
          "output_type": "stream",
          "name": "stdout",
          "text": [
            "['0827CI191035', 'CSIT', 8.95, 8.01, 8.88, 7.25]\n",
            "0827CI191035\n",
            "None\n",
            "[7.25, 8.88, 8.01, 8.95, 'CSIT', '0827CI191035']\n",
            "[8.88, 8.01]\n",
            "[7.25, 8.88, 8.01, 8.95, 'CSIT']\n"
          ]
        }
      ]
    },
    {
      "cell_type": "code",
      "source": [
        "M=[1,2,3,4,5,6]\n",
        "print(max(M))\n",
        "print(min(M))\n",
        "G=M[0:3]\n",
        "print(G)\n",
        "print(M)\n",
        "M.append(7)\n",
        "print(M)\n",
        "M.extend(List2)\n",
        "print(M)"
      ],
      "metadata": {
        "colab": {
          "base_uri": "https://localhost:8080/"
        },
        "id": "AxgnES6KvfXz",
        "outputId": "9b655457-29c1-48eb-a03e-59e4db27f15a"
      },
      "execution_count": null,
      "outputs": [
        {
          "output_type": "stream",
          "name": "stdout",
          "text": [
            "6\n",
            "1\n",
            "[1, 2, 3]\n",
            "[1, 2, 3, 4, 5, 6]\n",
            "[1, 2, 3, 4, 5, 6, 7]\n",
            "[1, 2, 3, 4, 5, 6, 7, 7.25, 8.88, 8.01, 8.95, 'CSIT']\n"
          ]
        }
      ]
    },
    {
      "cell_type": "code",
      "source": [
        ""
      ],
      "metadata": {
        "id": "iDOifKodvwQG"
      },
      "execution_count": null,
      "outputs": []
    }
  ]
}