{
  "nbformat": 4,
  "nbformat_minor": 0,
  "metadata": {
    "colab": {
      "name": "Numpy basics CI-35.ipynb",
      "provenance": []
    },
    "kernelspec": {
      "name": "python3",
      "display_name": "Python 3"
    },
    "language_info": {
      "name": "python"
    }
  },
  "cells": [
    {
      "cell_type": "code",
      "execution_count": null,
      "metadata": {
        "colab": {
          "base_uri": "https://localhost:8080/"
        },
        "id": "OsmJbIoIiETy",
        "outputId": "63ce521a-3a90-4b70-d79d-8be955655a22"
      },
      "outputs": [
        {
          "output_type": "stream",
          "name": "stdout",
          "text": [
            "[[[2 3 4]\n",
            "  [5 6 7]]\n",
            "\n",
            " [[2 3 4]\n",
            "  [5 6 7]]\n",
            "\n",
            " [[2 3 4]\n",
            "  [5 6 7]]]\n",
            "(3, 2, 3)\n",
            "3\n",
            "18\n",
            "[[ 0  1  2  3]\n",
            " [ 4  5  6  7]\n",
            " [ 8  9 10 11]\n",
            " [12 13 14 15]\n",
            " [16 17 18 19]\n",
            " [20 21 22 23]]\n"
          ]
        }
      ],
      "source": [
        "import numpy as np\n",
        "arr=np.array([[[2,3,4],[5,6,7]],[[2,3,4],[5,6,7],],[[2,3,4],[5,6,7]]])\n",
        "print(arr)\n",
        "print(arr.shape)\n",
        "print(arr.ndim)\n",
        "print(arr.size)\n",
        "ar=np.arange(24).reshape(6,4)\n",
        "print(ar)"
      ]
    },
    {
      "cell_type": "code",
      "source": [
        "(ar.resize(8,3))\n",
        "print(ar)"
      ],
      "metadata": {
        "colab": {
          "base_uri": "https://localhost:8080/"
        },
        "id": "W43oCcN9mc9l",
        "outputId": "afe130d3-d310-4b9c-936b-7553d6ef7f74"
      },
      "execution_count": null,
      "outputs": [
        {
          "output_type": "stream",
          "name": "stdout",
          "text": [
            "[[ 0  1  2]\n",
            " [ 3  4  5]\n",
            " [ 6  7  8]\n",
            " [ 9 10 11]\n",
            " [12 13 14]\n",
            " [15 16 17]\n",
            " [18 19 20]\n",
            " [21 22 23]]\n"
          ]
        }
      ]
    },
    {
      "cell_type": "code",
      "source": [
        "print(ar.dtype)"
      ],
      "metadata": {
        "colab": {
          "base_uri": "https://localhost:8080/"
        },
        "id": "8FpbOmoOikpl",
        "outputId": "d3e5588e-52d4-4a9f-f957-3bbbafc6be02"
      },
      "execution_count": null,
      "outputs": [
        {
          "output_type": "stream",
          "name": "stdout",
          "text": [
            "int64\n"
          ]
        }
      ]
    },
    {
      "cell_type": "code",
      "source": [
        "a=np.array([[[2,3,4],[5,6,7]],[[2,3,4],[5,6,7],],[[2,3,4],[5,6,7]]],dtype=complex) \n",
        "print(a.dtype)"
      ],
      "metadata": {
        "colab": {
          "base_uri": "https://localhost:8080/"
        },
        "id": "lwZW9FPqneF2",
        "outputId": "4266d9c0-627c-497a-d056-c42b5ebf1131"
      },
      "execution_count": null,
      "outputs": [
        {
          "output_type": "stream",
          "name": "stdout",
          "text": [
            "complex128\n"
          ]
        }
      ]
    },
    {
      "cell_type": "code",
      "source": [
        "e=np.empty((2,3,4))\n",
        "print(e)"
      ],
      "metadata": {
        "colab": {
          "base_uri": "https://localhost:8080/"
        },
        "id": "FDzCSlUKnwtO",
        "outputId": "2c6c1897-f553-4157-d136-519ab1be9d64"
      },
      "execution_count": null,
      "outputs": [
        {
          "output_type": "stream",
          "name": "stdout",
          "text": [
            "[[[4.66679824e-310 7.21335843e-322 0.00000000e+000 0.00000000e+000]\n",
            "  [0.00000000e+000 3.16251369e+180 1.05776693e-153 6.03461190e+151]\n",
            "  [7.67951336e-043 1.29060660e+248 8.42244190e+252 1.05250177e-153]]\n",
            "\n",
            " [[3.98472821e+252 3.62633720e+228 4.27255699e+180 8.80088569e+199]\n",
            "  [1.16267760e-028 2.04794095e+161 7.33729745e+223 5.28964318e+180]\n",
            "  [5.03734623e+180 3.99910946e+252 3.19854319e+209 1.58268989e-319]]]\n"
          ]
        }
      ]
    },
    {
      "cell_type": "code",
      "source": [
        "e=np.ones((2,3),dtype=np.int16)\n",
        "print(e)"
      ],
      "metadata": {
        "colab": {
          "base_uri": "https://localhost:8080/"
        },
        "id": "V2gTffGboEB9",
        "outputId": "bca57821-6f82-4bd4-9342-eba69e0e1a7d"
      },
      "execution_count": null,
      "outputs": [
        {
          "output_type": "stream",
          "name": "stdout",
          "text": [
            "[[1 1 1]\n",
            " [1 1 1]]\n"
          ]
        }
      ]
    },
    {
      "cell_type": "code",
      "source": [
        "print(e.size)\n",
        "print(e.shape)\n",
        "print(e.ndim)\n"
      ],
      "metadata": {
        "colab": {
          "base_uri": "https://localhost:8080/"
        },
        "id": "8Fc84Npuoa7l",
        "outputId": "5075cdec-5722-49a6-984f-8eda0c9601f2"
      },
      "execution_count": null,
      "outputs": [
        {
          "output_type": "stream",
          "name": "stdout",
          "text": [
            "6\n",
            "(2, 3)\n",
            "2\n"
          ]
        }
      ]
    },
    {
      "cell_type": "code",
      "source": [
        "print(np.linspace(1,2,3))\n",
        "print(np.random)\n",
        "p=e.flatten()\n",
        "print(p)\n",
        "print(np.arange(0,60,10).reshape(2,3))\n",
        "l=np.random.random((2,3))\n",
        "print(l)\n",
        "k=np.zeros((4,5))\n",
        "print(k)"
      ],
      "metadata": {
        "colab": {
          "base_uri": "https://localhost:8080/"
        },
        "id": "CVQ1sTsPpnXu",
        "outputId": "769d2496-3511-4833-9372-9693f17deffc"
      },
      "execution_count": null,
      "outputs": [
        {
          "output_type": "stream",
          "name": "stdout",
          "text": [
            "[1.  1.5 2. ]\n",
            "<module 'numpy.random' from '/usr/local/lib/python3.7/dist-packages/numpy/random/__init__.py'>\n",
            "[1 1 1 1 1 1]\n",
            "[[ 0 10 20]\n",
            " [30 40 50]]\n",
            "[[0.74270169 0.32991503 0.80818335]\n",
            " [0.41519015 0.04295477 0.1280054 ]]\n",
            "[[0. 0. 0. 0. 0.]\n",
            " [0. 0. 0. 0. 0.]\n",
            " [0. 0. 0. 0. 0.]\n",
            " [0. 0. 0. 0. 0.]]\n"
          ]
        }
      ]
    }
  ]
}